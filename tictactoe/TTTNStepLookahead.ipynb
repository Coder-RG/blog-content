{
 "cells": [
  {
   "cell_type": "markdown",
   "id": "6c416b56",
   "metadata": {},
   "source": [
    "### Import packages"
   ]
  },
  {
   "cell_type": "code",
   "execution_count": 2,
   "id": "2b8b187c",
   "metadata": {},
   "outputs": [],
   "source": [
    "import numpy as np\n",
    "from IPython.display import clear_output\n",
    "from util import *"
   ]
  },
  {
   "cell_type": "code",
   "execution_count": 3,
   "id": "b0e79e74",
   "metadata": {},
   "outputs": [],
   "source": [
    "from time import sleep"
   ]
  },
  {
   "cell_type": "markdown",
   "id": "8c10d085",
   "metadata": {},
   "source": [
    "### Let's create the battlefield"
   ]
  },
  {
   "cell_type": "code",
   "execution_count": 4,
   "id": "20954fb1",
   "metadata": {},
   "outputs": [
    {
     "data": {
      "text/plain": [
       "array([[0, 0, 0],\n",
       "       [0, 0, 0],\n",
       "       [0, 0, 0]], dtype=uint16)"
      ]
     },
     "execution_count": 4,
     "metadata": {},
     "output_type": "execute_result"
    }
   ],
   "source": [
    "ttt = np.zeros((3,3), np.uint16)\n",
    "ttt"
   ]
  },
  {
   "cell_type": "markdown",
   "id": "a5fa7c33",
   "metadata": {},
   "source": [
    "This time we don't have to write as much code as we did in One-step lookahead. However, some of the code from the previous notebook will be used as-is.\n",
    "\n",
    "We will use the following functions from the One-step lookahead notebook:\n",
    "- `check_window`\n",
    "- `count_windows`\n",
    "- `get_random_tile`\n",
    "\n",
    "The following functions will be changed:\n",
    "- `check_win`\n",
    "- `get_heuristic`\n",
    "\n",
    "The following function will not be used:\n",
    "- `get_optimal_move`\n",
    "- `get_valid_moves`\n",
    "- `score_move`\n",
    "\n",
    "Please do check TTTOneStepLookahead.ipynb for their code, or use help(<function-name>) to read their documentation."
   ]
  },
  {
   "cell_type": "code",
   "execution_count": 5,
   "id": "7bb8e393",
   "metadata": {},
   "outputs": [],
   "source": [
    "def get_valid_moves(grid):\n",
    "    valid_moves = []\n",
    "    for row in range(3):\n",
    "        for col in range(3):\n",
    "            if grid[row,col] == 0:\n",
    "                valid_moves.append((row,col))\n",
    "    return valid_moves"
   ]
  },
  {
   "cell_type": "code",
   "execution_count": 6,
   "id": "86139df2",
   "metadata": {},
   "outputs": [],
   "source": [
    "def check_win_draw(ttt):\n",
    "    grid = ttt.copy()\n",
    "    draw = True\n",
    "    for row in grid:\n",
    "        if list(row).count(0) > 0:\n",
    "            draw = False\n",
    "            break\n",
    "    # check rows\n",
    "    for row in range(3):\n",
    "        if list(ttt[row,:]).count(1) == 3:\n",
    "            return 1\n",
    "        elif list(ttt[row,:]).count(2) == 3:\n",
    "            return 2\n",
    "    # check columns\n",
    "    for col in range(3):\n",
    "        if list(ttt[:,col]).count(1) == 3:\n",
    "            return 1\n",
    "        elif list(ttt[:,col]).count(2) == 3:\n",
    "            return 2\n",
    "    # Check diagonals\n",
    "    if list(ttt[range(3),range(3)]).count(1) == 3 or list(ttt[range(3),range(2,-1,-1)]).count(1) == 3:\n",
    "        return 1\n",
    "    elif list(ttt[range(3),range(3)]).count(2) == 3 or list(ttt[range(3),range(2,-1,-1)]).count(2) == 3:\n",
    "        return 2\n",
    "    return 0 if draw else -1"
   ]
  },
  {
   "cell_type": "code",
   "execution_count": 7,
   "id": "30b59178",
   "metadata": {},
   "outputs": [],
   "source": [
    "assert check_win_draw(np.array([[1,2,1],[1,2,1],[2,1,2]])) == 0\n",
    "assert check_win_draw(np.array([[1,1,2],[2,1,1],[2,1,2]])) == 1"
   ]
  },
  {
   "cell_type": "markdown",
   "id": "49e55382",
   "metadata": {},
   "source": [
    "### N-Step lookahead"
   ]
  },
  {
   "cell_type": "code",
   "execution_count": 8,
   "id": "4f9f0175",
   "metadata": {},
   "outputs": [],
   "source": [
    "def get_heuristic(grid, player):\n",
    "    \"\"\"\n",
    "    Evaluates move and assigns a score.\n",
    "    \n",
    "    Parameters:\n",
    "    ===========\n",
    "    grid: numpy.ndarray\n",
    "        --> 3x3 Tic-Tac-Toe grid\n",
    "    \n",
    "    player: int\n",
    "        --> 1(X) or 2(O) to denote the player\n",
    "    \n",
    "    Returns:\n",
    "    ========\n",
    "    score: int\n",
    "        --> score the game board received\n",
    "    \"\"\"\n",
    "    num_three = count_windows(grid, 3, player)\n",
    "    num_twos = count_windows(grid, 2, player)\n",
    "    num_twos_opp = count_windows(grid, 2, player%2 + 1)\n",
    "    num_three_opp = count_windows(grid, 3, player%2 + 1)\n",
    "    score = 1e5*num_three + num_twos - 1e2*num_twos_opp - 1e3*num_three_opp\n",
    "    return score"
   ]
  },
  {
   "cell_type": "code",
   "execution_count": 9,
   "id": "ad227f22",
   "metadata": {},
   "outputs": [],
   "source": [
    "def minimax(grid, depth, player, maximising):\n",
    "    if depth == 0 or check_win_draw(grid) != -1:\n",
    "        heuristic = get_heuristic(grid,player)\n",
    "        return heuristic\n",
    "    ttt = grid.copy()\n",
    "    if maximising:\n",
    "        value = -0b1<<20\n",
    "        for valid_move in get_valid_moves(grid):\n",
    "            ttt[valid_move] = player\n",
    "            value = max(value, minimax(ttt,depth-1,player%2+1,False))\n",
    "            ttt[valid_move] = 0\n",
    "        return value\n",
    "    else:\n",
    "        value = 0b1<<20\n",
    "        for valid_move in get_valid_moves(grid):\n",
    "            value = min(value, minimax(ttt,depth-1,player%2+1,True))\n",
    "            ttt[valid_move] = 0\n",
    "        return value"
   ]
  },
  {
   "cell_type": "code",
   "execution_count": 10,
   "id": "6ff0aaed",
   "metadata": {},
   "outputs": [],
   "source": [
    "def score_move(grid, depth, move, player):\n",
    "    ttt = grid.copy()\n",
    "    ttt[move] = player\n",
    "    value = minimax(ttt, depth-1, player, False)\n",
    "    return value"
   ]
  },
  {
   "cell_type": "code",
   "execution_count": 11,
   "id": "411a80e8",
   "metadata": {},
   "outputs": [],
   "source": [
    "def get_optimal_move(grid, depth, player):\n",
    "    scores = []\n",
    "    valid_moves = get_valid_moves(grid)\n",
    "    for valid_move in valid_moves:\n",
    "        scores.append(score_move(grid, depth, valid_move, player))\n",
    "    max_score = max(scores)\n",
    "    max_score_indices = [index for index,score in enumerate(scores) if score == max_score]\n",
    "    return valid_moves[random.choice(max_score_indices)]"
   ]
  },
  {
   "cell_type": "code",
   "execution_count": 12,
   "id": "47747665",
   "metadata": {},
   "outputs": [
    {
     "name": "stdout",
     "output_type": "stream",
     "text": [
      "                      Stats                       \n",
      "--------------------------------------------------\n",
      "Total Games:100   Agent1:40    Agent2:19    Draws:41   \n"
     ]
    }
   ],
   "source": [
    "agent1 = {'piece':1}\n",
    "agent2 = {'piece':2}\n",
    "\n",
    "result = {'total_games':0, 'agent1':0, 'agent2':0, 'draws':0}\n",
    "ngames = 100\n",
    "depth = 3\n",
    "\n",
    "for _ in range(ngames):\n",
    "    grid = np.zeros((3,3), np.uint16)\n",
    "    result['total_games'] += 1\n",
    "    for iteration in range(9):\n",
    "        # Optimal Agent\n",
    "        if iteration%2 == 0:\n",
    "            move = get_optimal_move(grid,depth,agent1['piece'])\n",
    "            grid[move] = agent1['piece']\n",
    "        # Optimal Agent\n",
    "        else:\n",
    "            move = get_optimal_move(grid,depth,agent2['piece'])\n",
    "            grid[move] = agent2['piece']\n",
    "#         print(grid)\n",
    "#         sleep(2)\n",
    "#         clear_output()\n",
    "        if check_win_draw(grid) != -1:\n",
    "            game_result = check_win_draw(grid)\n",
    "            if game_result == 1:\n",
    "                result['agent1'] += 1\n",
    "            elif game_result == 2:\n",
    "                result['agent2'] += 1\n",
    "            else:\n",
    "                result['draws'] += 1\n",
    "            break\n",
    "\n",
    "print_result(result)"
   ]
  },
  {
   "cell_type": "code",
   "execution_count": 13,
   "id": "9f76630a",
   "metadata": {},
   "outputs": [
    {
     "name": "stdout",
     "output_type": "stream",
     "text": [
      "                      Stats                       \n",
      "--------------------------------------------------\n",
      "Total Games:100   Agent1:100   Agent2:0     Draws:0    \n"
     ]
    }
   ],
   "source": [
    "agent1 = {'piece':1}\n",
    "agent2 = {'piece':2}\n",
    "\n",
    "result = {'total_games':0, 'agent1':0, 'agent2':0, 'draws':0}\n",
    "ngames = 100\n",
    "depth = 3\n",
    "\n",
    "for _ in range(ngames):\n",
    "    grid = np.zeros((3,3), np.uint16)\n",
    "    result['total_games'] += 1\n",
    "    for iteration in range(9):\n",
    "        if iteration%2 == 0:\n",
    "            move = get_optimal_move(grid,depth,agent1['piece'])\n",
    "            grid[move] = agent1['piece']\n",
    "        else:\n",
    "            move = get_random_tile(grid)\n",
    "            grid[move] = agent2['piece']\n",
    "        if check_win_draw(grid) != -1:\n",
    "            game_result = check_win_draw(grid)\n",
    "            if game_result == 1:\n",
    "                result['agent1'] += 1\n",
    "            elif game_result == 2:\n",
    "                result['agent2'] += 1\n",
    "            else:\n",
    "                result['draws'] += 1\n",
    "            break\n",
    "\n",
    "print_result(result)"
   ]
  }
 ],
 "metadata": {
  "kernelspec": {
   "display_name": "Python 3 (ipykernel)",
   "language": "python",
   "name": "python3"
  },
  "language_info": {
   "codemirror_mode": {
    "name": "ipython",
    "version": 3
   },
   "file_extension": ".py",
   "mimetype": "text/x-python",
   "name": "python",
   "nbconvert_exporter": "python",
   "pygments_lexer": "ipython3",
   "version": "3.8.9"
  }
 },
 "nbformat": 4,
 "nbformat_minor": 5
}
