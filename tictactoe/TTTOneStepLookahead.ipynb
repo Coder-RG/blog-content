{
 "cells": [
  {
   "cell_type": "markdown",
   "id": "e659e718",
   "metadata": {},
   "source": [
    "# Agent to play Tic-Tac-Toe\n",
    "\n",
    "## Time to create an agent with some sense.\n",
    "\n",
    "Rather than choosing random moves, the agent will decide the best move going forward. It will choose the best move from all the possible moves. This is generally how newcomers play any game, trying to optimise the immediate action.\n",
    "\n",
    "![TicTacToe](tictactoe.png)"
   ]
  },
  {
   "cell_type": "markdown",
   "id": "c482f32f",
   "metadata": {},
   "source": [
    "### Import packages"
   ]
  },
  {
   "cell_type": "code",
   "execution_count": 2,
   "id": "6f62203b",
   "metadata": {},
   "outputs": [],
   "source": [
    "import random\n",
    "import numpy as np\n",
    "from IPython.display import clear_output\n",
    "from time import sleep\n",
    "from util import *"
   ]
  },
  {
   "cell_type": "markdown",
   "id": "b7b63c5c",
   "metadata": {},
   "source": [
    "### Let's create the battlefield!"
   ]
  },
  {
   "cell_type": "code",
   "execution_count": 3,
   "id": "64759165",
   "metadata": {},
   "outputs": [
    {
     "data": {
      "text/plain": [
       "array([[0, 0, 0],\n",
       "       [0, 0, 0],\n",
       "       [0, 0, 0]], dtype=uint16)"
      ]
     },
     "execution_count": 3,
     "metadata": {},
     "output_type": "execute_result"
    }
   ],
   "source": [
    "ttt = np.zeros((3,3), np.uint16)\n",
    "ttt"
   ]
  },
  {
   "cell_type": "code",
   "execution_count": 4,
   "id": "2c98ff78",
   "metadata": {},
   "outputs": [
    {
     "name": "stdout",
     "output_type": "stream",
     "text": [
      "(3, 3)\n",
      "[[0 0 0]\n",
      " [0 0 0]\n",
      " [0 0 0]]\n",
      "<class 'numpy.ndarray'>\n"
     ]
    }
   ],
   "source": [
    "print(ttt.shape)\n",
    "print(ttt.reshape(3,3))\n",
    "print(type(ttt))"
   ]
  },
  {
   "cell_type": "markdown",
   "id": "208b53bd",
   "metadata": {},
   "source": [
    "### Create the necessary methods for playing"
   ]
  },
  {
   "cell_type": "code",
   "execution_count": 5,
   "id": "198db4fb",
   "metadata": {},
   "outputs": [],
   "source": [
    "def get_valid_moves(ttt):\n",
    "    \"\"\"\n",
    "    Get positions in the grid that are empty.\n",
    "    \n",
    "    Parameters:\n",
    "    ===========\n",
    "    ttt: numpy.ndarray\n",
    "        --> Tic-Tac-Toe grid.\n",
    "    \n",
    "    Returns:\n",
    "    ========\n",
    "    valid_moves: list\n",
    "        --> Grid positions which are empty.\n",
    "    \"\"\"\n",
    "    grid = ttt.copy()\n",
    "    if grid.shape != (9,):\n",
    "        grid = grid.reshape(9)\n",
    "    valid_moves = [x for x in range(9) if grid[x] == 0]\n",
    "    return valid_moves"
   ]
  },
  {
   "cell_type": "code",
   "execution_count": 6,
   "id": "3703580e",
   "metadata": {},
   "outputs": [],
   "source": [
    "assert get_valid_moves(np.array([0,0,0,1,0,1,1,1,0], np.uint16)) == [0,1,2,4,8]\n",
    "assert get_valid_moves(np.array([[0,1,0],[1,1,1],[0,1,1]], np.uint16)) == [0,2,6]"
   ]
  },
  {
   "cell_type": "code",
   "execution_count": 7,
   "id": "da40e363",
   "metadata": {},
   "outputs": [
    {
     "name": "stdout",
     "output_type": "stream",
     "text": [
      "['In', 'Out', '_', '_3', '__', '___', '__builtin__', '__builtins__', '__doc__', '__loader__', '__name__', '__package__', '__spec__', '_dh', '_i', '_i1', '_i2', '_i3', '_i4', '_i5', '_i6', '_i7', '_ih', '_ii', '_iii', '_oh', 'agent1', 'agent2', 'check_win', 'clear_output', 'exit', 'get_ipython', 'get_random_tile', 'get_valid_moves', 'ngames', 'np', 'print_result', 'quit', 'random', 'result', 'sleep', 'ttt']\n"
     ]
    }
   ],
   "source": [
    "print(dir())"
   ]
  },
  {
   "cell_type": "code",
   "execution_count": 8,
   "id": "6324de8b",
   "metadata": {},
   "outputs": [],
   "source": [
    "def check_window(window, seq, player):\n",
    "    \"\"\"Count the player tiles in the concerned window and the remaining tiles should be empty.\n",
    "    This will ensure that the player can play further in those tiles.\n",
    "    \n",
    "    For example,\n",
    "    \n",
    "         1 2 3  |  1 2 3\n",
    "      1  X - X  |  - - X\n",
    "      2  O - -  |  O - X\n",
    "      3  O X O  |  O X -\n",
    "    \n",
    "    Let's consider the first column(X O O), if we were to check for this\n",
    "    window, we can see that 'O' has better outcome with 2 of its pieces in\n",
    "    a sequence, however, since there are no further tiles to play and win\n",
    "    in this window, this should not be awarded high score.\n",
    "    \n",
    "    Moreover, in the second grid, the first column is much better to play\n",
    "    a piece by the player \"O\", since there is an empty tile where further\n",
    "    play is possible.\n",
    "    \n",
    "    Parameters:\n",
    "    ===========\n",
    "    window: list\n",
    "        --> consecutive tiles to score\n",
    "        \n",
    "    seq: int\n",
    "        --> number of same pieces to count\n",
    "        \n",
    "    player: int\n",
    "        --> the player piece to count, eg: 1(X) or 2(O)\n",
    "    \n",
    "    Return:\n",
    "    =======\n",
    "    :boolean\n",
    "    \n",
    "    \"\"\"\n",
    "    return window.count(player) == seq and window.count(0) == 3-seq\n",
    "\n",
    "def count_windows(grid, seq, player):\n",
    "    \"\"\"\n",
    "    Counts the number of windows that satisfy the given parameters,\n",
    "    i.e. for the given player and the amount of pieces in a window.\n",
    "    \n",
    "    Parameters:\n",
    "    ===========\n",
    "    grid: numpy.ndarray\n",
    "        --> 3x3 Tic Tac Toe grid\n",
    "    \n",
    "    seq: int\n",
    "        --> number of same pieces to count\n",
    "    \n",
    "    player: int\n",
    "        --> the player piece to count, eg: 1(Player 1) or 2(Player 2)\n",
    "    \n",
    "    Return:\n",
    "    =======\n",
    "    windows: int\n",
    "        --> number of windows that satisfy the given criteria.\n",
    "    \"\"\"\n",
    "    windows = 0\n",
    "    # Horizontal(row)\n",
    "    for row in grid:\n",
    "        if check_window(list(row), seq, player):\n",
    "            windows += 1\n",
    "    \n",
    "    # Vertical(column)\n",
    "    for col in range(3):\n",
    "        if check_window(list(grid[:,col]), seq, player):\n",
    "            windows += 1\n",
    "    \n",
    "    # Diagonal\n",
    "    window = list(grid[range(3), range(3)])\n",
    "    if check_window(window, seq, player):\n",
    "        windows += 1\n",
    "    window = list(grid[range(2,-1,-1), range(2,-1,-1)])\n",
    "    if check_window(window, seq, player):\n",
    "        windows += 1\n",
    "    return windows"
   ]
  },
  {
   "cell_type": "markdown",
   "id": "e760869e",
   "metadata": {},
   "source": [
    "### One Step Lookahead\n",
    "\n",
    "Now that we have the necessary code for one step lookahead algorithm, let me explain how the algo works\n",
    "\n",
    "#### Algo(Simplified)\n",
    "1. While game not done:\n",
    "    1. For each valid move from valid moves:\n",
    "        - play the move\n",
    "        - evaluate the play and assign a score\n",
    "    1. Choose the best solution and play that move\n",
    "\n",
    "#### Explaination\n",
    "The algo above did not help much with understanding the actual scoring and how it can be helpful. In this section we will look at how scoring works and how it can be helpful.\n",
    "\n",
    "##### Example 1:\n",
    "| |1|2|3|\n",
    "|-|-|-|-|\n",
    "|1|X|O|X|\n",
    "|2|X|-|O|\n",
    "|3|-|X|O|\n",
    "\n",
    "Consider all the possible moves **O** can play: (3,1) or (2,2). The best move would be to play at (1,3).\n",
    "\n",
    "##### Example 2:\n",
    "\n",
    "| |1|2|3|\n",
    "|-|-|-|-|\n",
    "|1|X|-|O|\n",
    "|2|X|O|-|\n",
    "|3|-|O|-|\n",
    "\n",
    "Consider all the possible moves **X** can play: (1,2), (2,3), (3,1) and (3,3). The best move in this case would be to play at (3,1) to win the game.\n",
    "\n",
    "From the above two examples we have seen that it is necessary to assign each move with the correct score so that only the optimum choice is made. In the above example, we don't want to play at (1,2) to stop **O** from winning when we could easily win in the same move.\n"
   ]
  },
  {
   "cell_type": "markdown",
   "id": "c8e1d659",
   "metadata": {},
   "source": [
    "## Scoring each move:\n",
    "\n",
    "- +1000 if won i.e XXX or OOO\n",
    "- +1 if next move will win the game i.e, XX or OO\n",
    "- -100 if opponent will win in next move i.e it already has a sequence of 2."
   ]
  },
  {
   "cell_type": "code",
   "execution_count": 9,
   "id": "fb22c813",
   "metadata": {},
   "outputs": [],
   "source": [
    "def get_heuristic(grid, player):\n",
    "    \"\"\"\n",
    "    Evaluates move and assigns a score.\n",
    "    \n",
    "    Parameters:\n",
    "    ===========\n",
    "    grid: numpy.ndarray\n",
    "        --> 3x3 Tic-Tac-Toe grid\n",
    "    \n",
    "    player: int\n",
    "        --> 1(X) or 2(O) to denote the player\n",
    "    \n",
    "    Returns:\n",
    "    ========\n",
    "    score: int\n",
    "        --> score the game board received\n",
    "    \"\"\"\n",
    "    num_threes = count_windows(grid, 3, player)\n",
    "    num_twos = count_windows(grid, 2, player)\n",
    "    num_twos_opp = count_windows(grid, 2, player%2 + 1)\n",
    "    score = 1e3*num_threes + num_twos - 1e2*num_twos_opp\n",
    "    return score"
   ]
  },
  {
   "cell_type": "code",
   "execution_count": 10,
   "id": "5a2da3ae",
   "metadata": {},
   "outputs": [
    {
     "data": {
      "text/plain": [
       "array([[1, 0, 1],\n",
       "       [0, 2, 0],\n",
       "       [0, 2, 1]], dtype=uint16)"
      ]
     },
     "execution_count": 10,
     "metadata": {},
     "output_type": "execute_result"
    }
   ],
   "source": [
    "ttt = np.array([\n",
    "    [1,0,1],\n",
    "    [0,2,0],\n",
    "    [0,2,1]\n",
    "], np.uint16)\n",
    "ttt"
   ]
  },
  {
   "cell_type": "code",
   "execution_count": 11,
   "id": "a24e3874",
   "metadata": {},
   "outputs": [],
   "source": [
    "def score_move(grid, move, player):\n",
    "    ttt = grid.copy()\n",
    "    if ttt.shape != (9,):\n",
    "        ttt = ttt.reshape(9)\n",
    "    if ttt[move] != 0:\n",
    "        raise \"Invalid Move\"\n",
    "    ttt[move] = player\n",
    "    return get_heuristic(ttt.reshape((3,3)), player)"
   ]
  },
  {
   "cell_type": "code",
   "execution_count": 25,
   "id": "7615b627",
   "metadata": {},
   "outputs": [],
   "source": [
    "def get_optimal_move(grid, player):\n",
    "    valid_moves = get_valid_moves(grid)\n",
    "    scores = []\n",
    "    for valid_move in valid_moves:\n",
    "        scores.append(score_move(grid, valid_move, player))\n",
    "    max_score = max(scores)\n",
    "    max_score_indices = [index for index,score in enumerate(scores) if score == max_score]\n",
    "    return valid_moves[random.choice(max_score_indices)]"
   ]
  },
  {
   "cell_type": "code",
   "execution_count": 26,
   "id": "253f90d0",
   "metadata": {},
   "outputs": [
    {
     "name": "stdout",
     "output_type": "stream",
     "text": [
      "                      Stats                       \n",
      "--------------------------------------------------\n",
      "Total Games:100   Agent1:98    Agent2:1     Draws:1    \n"
     ]
    }
   ],
   "source": [
    "agent1 = {'piece':1}\n",
    "agent2 = {'piece':2}\n",
    "\n",
    "result = {'agent1':0, 'agent2':0, 'draws':0, 'total_games':0}\n",
    "ngames = 100\n",
    "\n",
    "print(\"Starting Game!\")\n",
    "for _ in range(ngames):\n",
    "    # Reset the grid\n",
    "    ttt = np.zeros((3,3), np.uint16)\n",
    "#     print(ttt)\n",
    "    result['total_games'] += 1\n",
    "    for iteration in range(9):\n",
    "        # Optimal Agent\n",
    "        if iteration%2 == 0:\n",
    "#             print(\"Optimal player\")\n",
    "            move = get_optimal_move(ttt, agent1['piece'])\n",
    "#             print(f'Move: {move}')\n",
    "            ttt.reshape(9)[move] = agent1['piece']\n",
    "        # Dumb Agent\n",
    "        else:\n",
    "#             print(\"Random Player\")\n",
    "            move = get_random_tile(ttt)\n",
    "            ttt[move] = agent2['piece']\n",
    "        winner = check_win(ttt)\n",
    "#         print(ttt)\n",
    "#         sleep(1)\n",
    "        clear_output()\n",
    "        if winner is not None:\n",
    "            if winner == 1:\n",
    "                result['agent1'] += 1\n",
    "            else:\n",
    "                result['agent2'] += 1\n",
    "            break\n",
    "    if winner is None:\n",
    "        result['draws'] += 1\n",
    "print_result(result)"
   ]
  },
  {
   "cell_type": "code",
   "execution_count": 31,
   "id": "80e8c002",
   "metadata": {},
   "outputs": [
    {
     "name": "stdout",
     "output_type": "stream",
     "text": [
      "Starting Game!\n",
      "                      Stats                       \n",
      "--------------------------------------------------\n",
      "Total Games:100   Agent1:30    Agent2:24    Draws:46   \n"
     ]
    }
   ],
   "source": [
    "agent1 = {'piece':1}\n",
    "agent2 = {'piece':2}\n",
    "\n",
    "result = {'agent1':0, 'agent2':0, 'draws':0, 'total_games':0}\n",
    "ngames = 100\n",
    "\n",
    "print(\"Starting Game!\")\n",
    "for _ in range(ngames):\n",
    "    # Reset the grid\n",
    "    ttt = np.zeros((3,3), np.uint16)\n",
    "    result['total_games'] += 1\n",
    "    for iteration in range(9):\n",
    "        # Optimal Agent 1\n",
    "        if iteration%2 == 0:\n",
    "            move = get_optimal_move(ttt, agent1['piece'])\n",
    "            ttt.reshape(9)[move] = agent1['piece']\n",
    "        # Optimal Agent 2\n",
    "        else:\n",
    "            move = get_optimal_move(ttt, agent2['piece'])\n",
    "            ttt.reshape(9)[move] = agent2['piece']\n",
    "        winner = check_win(ttt)\n",
    "#         print(ttt)\n",
    "#         sleep(1)\n",
    "#         clear_output()\n",
    "        if winner is not None:\n",
    "            if winner == 1:\n",
    "                result['agent1'] += 1\n",
    "            else:\n",
    "                result['agent2'] += 1\n",
    "            break\n",
    "    if winner is None:\n",
    "        result['draws'] += 1\n",
    "print_result(result)"
   ]
  }
 ],
 "metadata": {
  "kernelspec": {
   "display_name": "Python 3 (ipykernel)",
   "language": "python",
   "name": "python3"
  },
  "language_info": {
   "codemirror_mode": {
    "name": "ipython",
    "version": 3
   },
   "file_extension": ".py",
   "mimetype": "text/x-python",
   "name": "python",
   "nbconvert_exporter": "python",
   "pygments_lexer": "ipython3",
   "version": "3.8.9"
  }
 },
 "nbformat": 4,
 "nbformat_minor": 5
}
