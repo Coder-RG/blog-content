{
 "cells": [
  {
   "cell_type": "markdown",
   "id": "a204b417",
   "metadata": {},
   "source": [
    "# Agent to play Tic-Tac-Toe\n",
    "\n",
    "## Introduction\n",
    "\n",
    "You might be well aware of Tic-Tac-Toe. A very simple game that was played during classes and even after. However, if you aren't aware then let's see the game rules:\n",
    "\n",
    "* We have a 3x3 grid\n",
    "* There are two players: X and O\n",
    "* Each player can only play on one tile each round\n",
    "* The first player to place their 3 tiles in a sequence wins\n",
    "* The sequence can be in a row, column or diagonal.\n",
    "\n",
    "![TicTacToe](tictactoe.png)\n",
    "\n",
    "**Our main job is to create an agent that can win the game at a decent rate.**"
   ]
  },
  {
   "cell_type": "markdown",
   "id": "cb3e84d9",
   "metadata": {},
   "source": [
    "### Import packages"
   ]
  },
  {
   "cell_type": "code",
   "execution_count": 1,
   "id": "1198efd3",
   "metadata": {},
   "outputs": [],
   "source": [
    "import numpy as np\n",
    "import random\n",
    "from IPython.display import clear_output\n",
    "from time import sleep"
   ]
  },
  {
   "cell_type": "markdown",
   "id": "f023debb",
   "metadata": {},
   "source": [
    "### Let's create the battlefield!"
   ]
  },
  {
   "cell_type": "code",
   "execution_count": 2,
   "id": "d6f8fb3f",
   "metadata": {},
   "outputs": [],
   "source": [
    "ttt = np.zeros((3,3), np.uint16)"
   ]
  },
  {
   "cell_type": "code",
   "execution_count": 3,
   "id": "f5d5397d",
   "metadata": {},
   "outputs": [
    {
     "data": {
      "text/plain": [
       "array([[0, 0, 0],\n",
       "       [0, 0, 0],\n",
       "       [0, 0, 0]], dtype=uint16)"
      ]
     },
     "execution_count": 3,
     "metadata": {},
     "output_type": "execute_result"
    }
   ],
   "source": [
    "ttt"
   ]
  },
  {
   "cell_type": "markdown",
   "id": "71c45074",
   "metadata": {},
   "source": [
    "### Time for the rules"
   ]
  },
  {
   "cell_type": "code",
   "execution_count": 12,
   "id": "18ae169e",
   "metadata": {},
   "outputs": [],
   "source": [
    "def check_win(ttt):\n",
    "    # check rows\n",
    "    for row in range(3):\n",
    "        if list(ttt[row,:]).count(1) == 3:\n",
    "            return 1\n",
    "        elif list(ttt[row,:]).count(2) == 3:\n",
    "            return 2\n",
    "    # check columns\n",
    "    for col in range(3):\n",
    "        if list(ttt[:,col]).count(1) == 3:\n",
    "            return 1\n",
    "        elif list(ttt[:,col]).count(2) == 3:\n",
    "            return 2\n",
    "    # Check diagonals\n",
    "    if list(ttt[range(3),range(3)]).count(1) == 3 or \\\n",
    "        list(ttt[range(3),range(2,-1,-1)]).count(1) == 3:\n",
    "        return 1\n",
    "    elif list(ttt[range(3),range(3)]).count(2) == 3 or \\\n",
    "        list(ttt[range(3),range(2,-1,-1)]).count(2) == 3:\n",
    "        return 2\n",
    "    return None"
   ]
  },
  {
   "cell_type": "code",
   "execution_count": 13,
   "id": "8364f6a7",
   "metadata": {},
   "outputs": [],
   "source": [
    "assert check_win(np.array([[0,1,0],[0,1,0],[0,1,0]], np.int32)) == 1\n",
    "assert check_win(np.array([[2,0,0],[0,2,0],[0,1,2]], np.int32)) == 2\n",
    "assert check_win(np.array([[0,1,2],[0,2,0],[2,1,0]], np.int32)) == 2\n",
    "assert check_win(np.array([[1,1,1],[0,1,0],[0,1,0]], np.int32)) == 1"
   ]
  },
  {
   "cell_type": "markdown",
   "id": "94f68a13",
   "metadata": {},
   "source": [
    "**Now that the battlefield is ready, let's create a dumb agent to get started. This agent is dumb because it will only select random movies everytime.**"
   ]
  },
  {
   "cell_type": "code",
   "execution_count": 6,
   "id": "df1df076",
   "metadata": {},
   "outputs": [],
   "source": [
    "def get_random_tile(ttt):\n",
    "    while True:\n",
    "        row = random.randint(0,2)\n",
    "        col = random.randint(0,2)\n",
    "        if ttt[row,col] == 0:\n",
    "            return (row,col)"
   ]
  },
  {
   "cell_type": "code",
   "execution_count": 7,
   "id": "5e04579a",
   "metadata": {},
   "outputs": [],
   "source": [
    "def print_result(result):\n",
    "    print('{:^50}\\n{:-^50}'.format('Stats',''))\n",
    "    print('Total Games:{:<5} Agent1:{:<5} Agent2:{:<5} Draws:{:<5}'.format(result['total_games'],\n",
    "                                                               result['agent1'],\n",
    "                                                               result['agent2'],\n",
    "                                                               result['draws']))"
   ]
  },
  {
   "cell_type": "code",
   "execution_count": 9,
   "id": "183e039e",
   "metadata": {},
   "outputs": [
    {
     "name": "stdout",
     "output_type": "stream",
     "text": [
      "                      Stats                       \n",
      "--------------------------------------------------\n",
      "Total Games:100   Agent1:64    Agent2:27    Draws:9    \n"
     ]
    }
   ],
   "source": [
    "agent1 = {'piece':1}\n",
    "agent2 = {'piece':2}\n",
    "\n",
    "result = {'agent1':0, 'agent2':0, 'draws':0, 'total_games':0}\n",
    "ngames = 100\n",
    "\n",
    "for _ in range(ngames):\n",
    "    # Reset the grid\n",
    "    ttt = np.zeros((3,3), np.uint16)\n",
    "    result['total_games'] += 1\n",
    "    for iteration in range(9):\n",
    "        # Agents play alternatively\n",
    "        move = get_random_tile(ttt)\n",
    "        if iteration%2 == 0:\n",
    "            ttt[move] = agent1['piece']\n",
    "        else:\n",
    "            ttt[move] = agent2['piece']\n",
    "        winner = check_win(ttt)\n",
    "        if winner is not None:\n",
    "            if winner == 1:\n",
    "                result['agent1'] += 1\n",
    "            else:\n",
    "                result['agent2'] += 1\n",
    "            break\n",
    "    if winner is None:\n",
    "        result['draws'] += 1\n",
    "print_result(result)"
   ]
  },
  {
   "cell_type": "code",
   "execution_count": null,
   "id": "48002379",
   "metadata": {},
   "outputs": [],
   "source": []
  }
 ],
 "metadata": {
  "kernelspec": {
   "display_name": "Python (tictactoe)",
   "language": "python",
   "name": "tictactoe"
  },
  "language_info": {
   "codemirror_mode": {
    "name": "ipython",
    "version": 3
   },
   "file_extension": ".py",
   "mimetype": "text/x-python",
   "name": "python",
   "nbconvert_exporter": "python",
   "pygments_lexer": "ipython3",
   "version": "3.8.9"
  }
 },
 "nbformat": 4,
 "nbformat_minor": 5
}
